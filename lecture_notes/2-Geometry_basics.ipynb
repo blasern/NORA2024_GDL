{
 "cells": [
  {
   "cell_type": "markdown",
   "id": "57471c57",
   "metadata": {},
   "source": [
    "# Geometry basic\n",
    "#### NORA Summer School 2024"
   ]
  },
  {
   "cell_type": "markdown",
   "id": "467624bc",
   "metadata": {},
   "source": [
    "### Overall structure"
   ]
  },
  {
   "cell_type": "markdown",
   "id": "bb7bebf0",
   "metadata": {},
   "source": [
    "* We have a class of spaces with a given **structure** (set, graph, grid, group, manifold).\n",
    "* These objects have **symmetries**: Maps to themselves that preserve all of the structure.\n",
    "* These symmetries form **a group**.\n",
    "* These groups have a group **acts** on your objects but also on **signals**. If the space the group is acting on is a vector space, we call it **a representation**.\n",
    "* We are interested in functions on signals that are **invariant** or **equivariant**. We will talk more about these concepts tomorrow. \n",
    "\n",
    "We will go through each of these for different structures. The theory is *math* but we do examples in code."
   ]
  },
  {
   "cell_type": "markdown",
   "id": "aa54a039",
   "metadata": {},
   "source": [
    "## (1) Sets"
   ]
  },
  {
   "cell_type": "markdown",
   "id": "4aa78b96",
   "metadata": {},
   "source": [
    "Let us start with a collection of $n$ integers $C = \\{ 0, \\dots, n-1\\}$.\n",
    "\n",
    "A symmetry $\\sigma:C \\to C$ of *relabeling* or *a permutation*: it matches each element one-to-one."
   ]
  },
  {
   "cell_type": "code",
   "execution_count": null,
   "id": "e3ba0d86",
   "metadata": {},
   "outputs": [],
   "source": [
    "import numpy as np"
   ]
  },
  {
   "cell_type": "code",
   "execution_count": null,
   "id": "ebf32238",
   "metadata": {},
   "outputs": [],
   "source": [
    "# Example with n=4\n",
    "\n",
    "\n",
    "C = np.arange(4) # Define C\n",
    "print(C)\n",
    "\n"
   ]
  },
  {
   "cell_type": "code",
   "execution_count": null,
   "id": "dc9519fc",
   "metadata": {},
   "outputs": [],
   "source": [
    "# Examples of symmetries\n",
    "# Identity: the map that does nothing\n",
    "def identity(x):\n",
    "    return x\n",
    "\n",
    "# Flipping\n",
    "def Flip(x):\n",
    "    return np.flip(x,0)\n",
    "\n",
    "# 2-cycles: switching two elements:\n",
    "def switch(x,p=0,q=1):\n",
    "    y = x.copy()\n",
    "    y[p] = x[q]\n",
    "    y[q] = x[p]\n",
    "    return y\n",
    "\n",
    "# 4-cycle: shifting all elements\n",
    "def shift(x,a=1,n=4):\n",
    "    return (x+a)%n\n",
    "    "
   ]
  },
  {
   "cell_type": "code",
   "execution_count": null,
   "id": "04bbb502",
   "metadata": {},
   "outputs": [],
   "source": [
    "print(\"identity:\", identity(C),\". Flip:\",Flip(C),\". switch13:\",switch(C,p=1,q=3),\". shift:\",shift(C))"
   ]
  },
  {
   "cell_type": "code",
   "execution_count": null,
   "id": "6466bc56",
   "metadata": {},
   "outputs": [],
   "source": [
    "# Notice that we can combine then to make new pertubations.\n",
    "print(switch(switch(C,p=1,q=3), p=3,q=2))\n"
   ]
  },
  {
   "cell_type": "markdown",
   "id": "19e9fff3",
   "metadata": {},
   "source": [
    "We can write them in cycle form, $C = [0 \\, 1 \\, 2 \\, 3]$.\n",
    "| $\\sigma(C)$ | Cycle form|\n",
    "|---|---|\n",
    "|$[0 \\, 1 \\, 2 \\, 3]$|()|\n",
    "|$[3 \\, 2 \\, 1 \\, 0]$|(03)(12)|\n",
    "|$[0 \\, 3 \\, 2 \\, 1]$|(13)|\n",
    "|$[1 \\, 2 \\, 3 \\, 0]$|(0321)|\n",
    "|$[0 \\, 3 \\, 1 \\, 2]$|(123)|\n",
    "\n",
    "In total, there are 16 permutations of $C$."
   ]
  },
  {
   "cell_type": "markdown",
   "id": "e3fb4583",
   "metadata": {},
   "source": [
    "### The groups\n",
    "\n",
    "**A group** is a set $G$ with a binary operation $G \\times G \\to G$, $g \\cdot h$ such that\n",
    "1. Closed: If $g,h \\in G$, then $g \\cdot h \\in G$.\n",
    "2. Associativity: For $g,h, k \\in G$,\n",
    "$$(g \\cdot h) \\cdot k = g\\cdot (h \\cdot k).$$\n",
    "3. Identity: There is an element $1 \\in G$ such that\n",
    "$$1 \\cdot g = g \\cdot 1 = g.$$\n",
    "4. Inverse: For any element $g \\in G$, there is an element $g^{-1} \\in G$ such that\n",
    "$$g \\cdot g^{-1} = g^{-1} \\cdot g=1.$$"
   ]
  },
  {
   "cell_type": "markdown",
   "id": "902d6dd2",
   "metadata": {},
   "source": [
    "**Examples:**\n",
    "* $\\mathbb{R}$ and $\\mathbb{Z}$ with $+$ are groups. $\\mathbb{R}$ is not a group under multiplications, but $\\mathbb{R} \\setminus \\{0 \\}$ is. These are examples of **abelian groups** where $g \\cdot h= h \\cdot g$.\n",
    "* $C_n$ is the set $C_n = \\{ 0,1,\\dots,n-1\\}$ with operation\n",
    "$$i+j = i+j \\bmod n.$$\n",
    "Called **the cyclic group**. It is also abelian. Sometimes written $C_n = \\mathbb{Z}/n\\mathbb{Z}$.\n",
    "* Let $M_n(\\mathbb{R})$ be the space of $n \\times n$ matrices. Let $\\cdot$ denote matrix multiplication (in python @ or np.matmul). Then $M_n(\\mathbb{R}), \\cdot$ is not a group (why?), but if we just use matrices with a non-zero determinant $GL(n, \\mathbb{R})$, then we have a group. It is not an abelian group, however."
   ]
  },
  {
   "cell_type": "code",
   "execution_count": null,
   "id": "ae1cf926",
   "metadata": {},
   "outputs": [],
   "source": [
    "A = np.array([[0,1],[-1,3]])\n",
    "B = np.array([[1,1],[1,2]])\n",
    "\n",
    "print(A @ B, \"not equal to\" , B@A)\n",
    "\n",
    "# We find inverses\n",
    "print(\"Determinants: A:\",np.linalg.det(A),\"  B: \",np.linalg.det(B)) # both have determinant\n",
    "print(\"Inverse of A:\", np.linalg.inv(A), \". We check A @ A^{-1}=\", A @ np.linalg.inv(A))"
   ]
  },
  {
   "cell_type": "markdown",
   "id": "e84b04db",
   "metadata": {},
   "source": [
    "Because of the property $det(AB) = det(A) \\cdot det(B)$, the product of two invertible matrices remains invertible."
   ]
  },
  {
   "cell_type": "markdown",
   "id": "89306064",
   "metadata": {},
   "source": [
    "<span style=\"font-size:24px; color:blue\">\n",
    "Exercise: Consider the space $M_{2\\times 2}(\\mathbb{R})$ of $2\\times 2$-matrices. Introduce the operation $*$ of coefficient-wise multiplication\n",
    "$$\\begin{pmatrix} a_{11} & a_{12} \\\\ a_{21} & a_{22} \\end{pmatrix} * \\begin{pmatrix} b_{11} & b_{12} \\\\ b_{21} & b_{22} \\end{pmatrix} = \\begin{pmatrix} a_{11} b_{11} & a_{12} b_{12} \\\\ a_{21} b_{21} & a_{22} b_{22} \\end{pmatrix}.$$\n",
    "\n",
    "(a) Explain why $(M_{2\\times 2}(\\mathbb{R}),*)$ is not a group.\n",
    "    \n",
    "(b) Can you find a subset of matrices that is a group under $*$? As large a group as possible. What is the identity, what is inverses?\n",
    "\n",
    "</span>\n"
   ]
  },
  {
   "cell_type": "code",
   "execution_count": null,
   "id": "3dd4d19c",
   "metadata": {},
   "outputs": [],
   "source": [
    "# Write your answer here"
   ]
  },
  {
   "cell_type": "markdown",
   "id": "64c71638",
   "metadata": {},
   "source": [
    "### Permutations as a group\n",
    "If $\\sigma$ and $\\tau$ are two permutations, so is $\\sigma \\cdot \\tau = \\sigma \\circ \\tau$. Recall that $(\\sigma \\cdot \\tau)(c) = \\sigma(\\tau(c))$.\n",
    "\n",
    "We have identity $1 = id$, i.e. Then $1(c) = c$. Also, every permutation has an inverse. Finally, composition of maps is associative.\n",
    "\n"
   ]
  },
  {
   "cell_type": "code",
   "execution_count": null,
   "id": "39ec6bdb",
   "metadata": {},
   "outputs": [],
   "source": [
    "# Example with n=4 numbers\n",
    "## 1 is then identity(c)\n",
    "## the switch maps are their own inverse\n",
    "print(switch(C), switch(switch(C)))"
   ]
  },
  {
   "cell_type": "code",
   "execution_count": null,
   "id": "9ab23763",
   "metadata": {},
   "outputs": [],
   "source": [
    "# For shift, the inverse is shift( ,a=3)\n",
    "print(f'Shift has output {shift(C)}, while the inverse have output {shift(C,a=3)} and combined {shift(shift(C),a=3)}')"
   ]
  },
  {
   "cell_type": "code",
   "execution_count": null,
   "id": "9f6f4779",
   "metadata": {},
   "outputs": [],
   "source": [
    "# Group of permutations is not abelian. Recall that switch by default changes 0 and 1.\n",
    "print(switch(switch(C,p=1,q=3)),\" not the same as \",switch(switch(C),p=1,q=3))"
   ]
  },
  {
   "cell_type": "markdown",
   "id": "29d2bbf5",
   "metadata": {},
   "source": [
    "Write permutations of $n$ elements as the group $S_n$. This group has $n!$ members. In particular, $S_4$ has $4! = 24$."
   ]
  },
  {
   "cell_type": "markdown",
   "id": "0fe0a628",
   "metadata": {},
   "source": [
    "<span style=\"font-size:24px; color:blue\">\n",
    "Exercise: Make a multiplication table for the permutations (), (13), (03)(12), (0321), (123)\n",
    "</span>\n"
   ]
  },
  {
   "cell_type": "code",
   "execution_count": null,
   "id": "3131e21e",
   "metadata": {},
   "outputs": [],
   "source": [
    "# Write your answer here"
   ]
  },
  {
   "cell_type": "markdown",
   "id": "5627f963",
   "metadata": {},
   "source": [
    "### Group action\n",
    "\n",
    "A group action $\\rho$ is a map $\\rho: G \\times \\Omega \\to \\Omega$,\n",
    "$$g, \\omega \\mapsto \\rho(g)\\omega, \\qquad \\text{also written just} \\qquad g \\cdot \\omega,$$\n",
    "such that\n",
    "$$\\rho(g) \\rho(h)\\omega = \\rho(g\\cdot h) \\omega \\qquad \\rho(1)\\omega = \\omega.$$\n",
    "Also written by\n",
    "$$g \\cdot (h \\cdot \\omega) = (g \\cdot h) \\cdot \\omega, \\qquad 1 \\cdot \\omega= \\omega.$$\n",
    "\n",
    "We can consider $\\rho(g)$ as a map from $\\Omega \\to \\Omega$. Note that from the previous assumptions\n",
    "$$\\rho(g^{-1}) = \\rho(g)^{-1}.$$"
   ]
  },
  {
   "cell_type": "markdown",
   "id": "754f0629",
   "metadata": {},
   "source": [
    "**Example** We have the set $C=\\{ 0,1,2,3\\}$\n",
    "1. If $S_4$ is the group of permutations, then $\\rho(\\sigma)c = \\sigma(c)$ is a group action on C.\n",
    "2. If $C_4$ is the cyclic group, then $\\rho(g)c = shift(c,a=g)$ is a group action."
   ]
  },
  {
   "cell_type": "markdown",
   "id": "8dbf91b4",
   "metadata": {},
   "source": [
    "**Example**\n",
    "Assume that we have any other set, represented by a vector $y = [y[0], \\dots, y[n-1]]$, then we can define \"an action\" of $S_n$ on $y$ by\n",
    "$$\\rho(g)y[i] = y[g(i)].$$\n",
    "But this is actually a bad definition."
   ]
  },
  {
   "cell_type": "code",
   "execution_count": null,
   "id": "c85b90af",
   "metadata": {},
   "outputs": [],
   "source": [
    "C = np.arange(4) # Define C = [0,1,2,3]\n",
    "y = np.array([2,4,8,6]) # we use this as an example"
   ]
  },
  {
   "cell_type": "code",
   "execution_count": null,
   "id": "de7ac4de",
   "metadata": {},
   "outputs": [],
   "source": [
    "def BadRho(g,y):\n",
    "    return y[g(C)]"
   ]
  },
  {
   "cell_type": "code",
   "execution_count": null,
   "id": "f3d94a5a",
   "metadata": {},
   "outputs": [],
   "source": [
    "print(shift(C),BadRho(shift,y),\"Both shifts numbers to the left.\")"
   ]
  },
  {
   "cell_type": "markdown",
   "id": "a59ca7c3",
   "metadata": {},
   "source": [
    "But as a function, shift moves all numbers to the right:\n",
    "$$\\begin{array}{cc}\n",
    "c & shift(c) \\\\\n",
    "0 & 1 \\\\\n",
    "1 & 2 \\\\\n",
    "2 & 3 \\\\\n",
    "3 & 0\n",
    "\\end{array}$$\n",
    "So we want our group action to do the same."
   ]
  },
  {
   "cell_type": "markdown",
   "id": "28b5fb08",
   "metadata": {},
   "source": [
    "Good definition\n",
    "$$\\rho(g)y[i] = y[g^{-1}(i)].$$"
   ]
  },
  {
   "cell_type": "code",
   "execution_count": null,
   "id": "ed4235d0",
   "metadata": {},
   "outputs": [],
   "source": [
    "# Find the inverse by mapping each element to the place they are at.\n",
    "def Inverse(g,x):\n",
    "    C = np.arange(4)\n",
    "    return list(g(C)).index(x)\n",
    "    \n",
    "        "
   ]
  },
  {
   "cell_type": "code",
   "execution_count": null,
   "id": "2e160a9d",
   "metadata": {},
   "outputs": [],
   "source": [
    "def Rho(g,y):\n",
    "    C = np.arange(4)\n",
    "    def h(z):\n",
    "        return Inverse(g,z)\n",
    "    \n",
    "    h = np.vectorize(h)\n",
    "    \n",
    "    return y[h(C)]\n",
    "    "
   ]
  },
  {
   "cell_type": "code",
   "execution_count": null,
   "id": "adc417e4",
   "metadata": {},
   "outputs": [],
   "source": [
    "print(f'Now shift works by shifting to the right: {Rho(shift,np.array([11,12,13,14]))}')"
   ]
  },
  {
   "cell_type": "markdown",
   "id": "a2fd897e",
   "metadata": {},
   "source": [
    "<span style=\"font-size:24px; color:blue\">\n",
    "Exercise: For some elements $g_1, \\dots, g_k$, we say that $H$ is the group generated by these elements if it is the sallest groups containing them. Made by taking all possible multiplications of them en their inverses.\n",
    "    \n",
    "Find the group generated by (), (123), (12)\n"
   ]
  },
  {
   "cell_type": "code",
   "execution_count": null,
   "id": "dfa1597b",
   "metadata": {},
   "outputs": [],
   "source": [
    "# Write your answer here"
   ]
  },
  {
   "cell_type": "markdown",
   "id": "a2d666a7",
   "metadata": {},
   "source": [
    "<span style=\"font-size:24px; color:blue\">\n",
    "Exercise: Check that $\\text{BadRho}(g)(x)[i] =x[g(i)]$ is actually not a group action.\n",
    "</span>\n",
    "\n",
    "\n"
   ]
  },
  {
   "cell_type": "code",
   "execution_count": null,
   "id": "1d947aa6",
   "metadata": {},
   "outputs": [],
   "source": [
    "# Write your answer here."
   ]
  },
  {
   "cell_type": "markdown",
   "id": "1588c61e",
   "metadata": {},
   "source": [
    "**Fact** If we have a finite group $G$, and $|G| =n$, then $g^n = 1$ for any element $g \\in G$. In particular, $g^{n-1} = g^{-1}$."
   ]
  },
  {
   "cell_type": "markdown",
   "id": "4d17bc2c",
   "metadata": {},
   "source": [
    "### Signals and representations"
   ]
  },
  {
   "cell_type": "markdown",
   "id": "b80e6c91",
   "metadata": {},
   "source": [
    "**The space of signals** is the space of function $\\mathcal{X}(\\Omega)$ consisting of functions $x:\\Omega \\to \\mathbb{R}$. Could also be into the complex numbers or any other vector space $\\mathcal{W}$.\n",
    "\n",
    "Important observation about $\\mathcal{X}(\\Omega)$: it is **a vector space**.\n",
    "$$ax(\\omega) = a\\cdot x(\\omega), \\qquad (x+y)(\\omega) = x(\\omega) + y(\\omega).$$\n",
    "\n",
    "Sometimes, we use a smaller space of signals, if we only want functions that respect a certain structure."
   ]
  },
  {
   "cell_type": "markdown",
   "id": "d0f86f04",
   "metadata": {},
   "source": [
    "If $\\Omega=\\mathcal{V}$ is a vector space, then a group action $\\rho$ of $G$ on $\\mathcal{V}$ such that $\\rho(g)$ is always a linear map is called **a representation**. \n",
    "\n",
    "If $\\mathcal{V}$ is finite dimensional and has a given basis, then we can write $\\rho(g)$ as a matrix. We can then see $\\rho$ as a map\n",
    "$$\\rho: G \\to GL(n) \\qquad \\text{(group of invertible $n \\times n$-matrices, $n$ dimension of vector space)}.$$\n",
    "This map satisfies\n",
    "$$\\rho(g\\cdot h) =\\rho(g) \\cdot \\rho(h),$$\n",
    "i.e., it is **a group homomorphism**.\n",
    "\n",
    "If $\\mathcal{X}(\\Omega)$ is a space of signals with values in some vector space $\\mathcal{W}$, then $\\mathcal{X}(\\Omega)$ is a vector space itself and\n",
    "$$\\rho(g)x(\\omega)=x(g^{-1}\\omega)$$\n",
    "is a representation."
   ]
  },
  {
   "cell_type": "markdown",
   "id": "17a87ad5",
   "metadata": {},
   "source": [
    "We can write these representations as a matrix: example\n",
    "$$\\rho(shift)x = \\begin{pmatrix} x[3] \\\\ x[0] \\\\ x[1] \\\\ x[2] \\end{pmatrix} =\n",
    "\\begin{pmatrix} 0 & 0 & 0 & 1 \\\\\n",
    "1 & 0 & 0 & 0 \\\\\n",
    "0 & 1 & 0 & 0 \\\\\n",
    "0 & 0 & 1 & 0\n",
    "\\end{pmatrix} \\begin{pmatrix} x[0] \\\\ x[1] \\\\ x[2] \\\\ x[3] \\end{pmatrix}\n",
    "$$\n",
    "All permutations matrices are matrices made by permuting the columns of the identity matrix."
   ]
  },
  {
   "cell_type": "markdown",
   "id": "499a3bd1",
   "metadata": {},
   "source": [
    "<span style=\"font-size:24px; color:blue\">\n",
    "Exercise:\n",
    "Recall the definition of Flip. Find the corresponding matrix $\\rho(Flip)$.\n",
    "</span>"
   ]
  },
  {
   "cell_type": "code",
   "execution_count": null,
   "id": "7d1004c1",
   "metadata": {},
   "outputs": [],
   "source": [
    "# Write your answer there."
   ]
  },
  {
   "cell_type": "markdown",
   "id": "8625bcf0",
   "metadata": {},
   "source": [
    "### Invariance, equivariance:\n",
    "A function $f: \\mathcal{X}(\\Omega) \\to \\mathbb{R}$ is called *invariant* if $f(\\rho(g)x) = f(x)$ for any $g \\in G$. A function $F: \\mathcal{X}(\\Omega) \\to \\mathcal{X}(\\Omega)$ is called *equivariant* if $F(\\rho(g)x) = \\rho(g)F(x)$. The function can then have values in a different space with a different $\\mathcal{Y}$ with a different representation $\\rho_{\\mathcal{Y}}(g)$. Equivariance is then $F(\\rho(g) x)= \\rho_{\\mathcal{Y}}(g) F( x)$"
   ]
  },
  {
   "cell_type": "markdown",
   "id": "1ca7786b",
   "metadata": {},
   "source": [
    "<span style=\"font-size:24px; color:blue\">\n",
    "Exercise\n",
    "\n",
    "1. Let $C = \\{0,1,2,3\\}$ and let $G = S_4$ be the the full permuation group. Describe the invariant and equivariant functions on $C$ and on signals of $C$.\n",
    "\n",
    "2. Let $C = \\{0,1,2,3\\}$ and let $G = \\{ 1, Flip\\}$. Check that this is a group. Describe the invariant and equivariant functions.\n",
    "\n",
    "</span>"
   ]
  },
  {
   "cell_type": "code",
   "execution_count": null,
   "id": "25b3a709",
   "metadata": {},
   "outputs": [],
   "source": [
    "# Write your answer here."
   ]
  },
  {
   "cell_type": "markdown",
   "id": "9d28f48f",
   "metadata": {},
   "source": [
    "## (2) Graphs"
   ]
  },
  {
   "cell_type": "code",
   "execution_count": null,
   "id": "b02287bd",
   "metadata": {},
   "outputs": [],
   "source": [
    "import networkx as nx\n",
    "\n",
    "import matplotlib.pyplot as plt\n"
   ]
  },
  {
   "cell_type": "markdown",
   "id": "88ed2c18",
   "metadata": {},
   "source": [
    "We consider the following graphs:"
   ]
  },
  {
   "cell_type": "code",
   "execution_count": null,
   "id": "25bf988f",
   "metadata": {},
   "outputs": [],
   "source": [
    "# Graph 1\n",
    "\n",
    "fig, axs = plt.subplots(1, 2)\n",
    "\n",
    "G1 = nx.Graph()\n",
    "G1.add_edges_from(\n",
    "    [(0, 1), (0, 2), (0, 3)])\n",
    "\n",
    "nx.draw(G1,with_labels = True,ax=axs[0],node_color='yellow')\n",
    "\n",
    "# We can permute 1, 2 and 3, but 0 needs to be in place\n",
    "\n",
    "# Graph 2\n",
    "G2 = nx.Graph()\n",
    "G2.add_edges_from(\n",
    "    [(0, 1), (0, 2), (0, 3),(2,3)])\n",
    "\n",
    "nx.draw(G2,with_labels = True,ax=axs[1],node_color='yellow')\n",
    "plt.show()\n",
    "\n",
    "# We can only permute 2 and 3."
   ]
  },
  {
   "cell_type": "markdown",
   "id": "c7b839ec",
   "metadata": {},
   "source": [
    "We can represent a graph as a symmetric matrix $A$ which is an $n \\times n$-matrices, such that $A[i,j]$ is one if there is an edge between node $i$ and $j$."
   ]
  },
  {
   "cell_type": "markdown",
   "id": "c52d2667",
   "metadata": {},
   "source": [
    "Relative to graphs $\\mathcal{G}_1$ and $\\mathcal{G}_2$, we can representem by matrices\n",
    "$$A_1 =\\begin{pmatrix} 0 & 1 & 1 & 1 \\\\ 1 & 0 & 0 & 0 \\\\ 1 & 0 & 0 & 0 \\\\ 1 & 0 & 0 & 0 \\end{pmatrix}\n",
    "\\qquad \\qquad A_2=\\begin{pmatrix} 0 & 1 & 1 & 1 \\\\ 1 & 0 & 1 & 0 \\\\ 1 & 1 & 0 & 0 \\\\ 1 & 0 & 0 & 0 \\end{pmatrix}.$$"
   ]
  },
  {
   "cell_type": "markdown",
   "id": "97b0265b",
   "metadata": {},
   "source": [
    "If we want to relable the edges, we will have to change which edges are connected.\n",
    "\n",
    "In general, we can considered a labeled graph as a pair $(x,A)$ where $A$ is the matrix representing the graph and $x$ is a function on the nodes, that can be considered as a vector $x \\in \\mathbb{R}^{\\text{# nodes}}$."
   ]
  },
  {
   "cell_type": "code",
   "execution_count": null,
   "id": "d3811369",
   "metadata": {},
   "outputs": [],
   "source": [
    "fig, axs = plt.subplots(1, 2)\n",
    "\n",
    "# Graph 1 again, but with more information\n",
    "G1 = nx.Graph()\n",
    "G1.add_edges_from(\n",
    "    [(0, 1), (0, 2), (0, 3)])\n",
    "\n",
    "val_map = {0: 11,\n",
    "           1: 12,\n",
    "           2: 13, 3:14}\n",
    "\n",
    "values = [val_map.get(node, 0.25) for node in G1.nodes()]\n",
    "\n",
    "nx.draw(G1,with_labels = True,ax=axs[0],node_color=values)\n",
    "\n",
    "\n",
    "\n",
    "# Switch 0 and 3\n",
    "G3 = nx.Graph()\n",
    "G3.add_edges_from(\n",
    "    [(3, 1), (3, 2), (0, 3)])\n",
    "\n",
    "val_map = {3: 11,\n",
    "           1: 12,\n",
    "           2: 13, 0:14}\n",
    "\n",
    "values = [val_map.get(node, 0.25) for node in G3.nodes()]\n",
    "\n",
    "nx.draw(G3,with_labels = True,ax=axs[1],node_color=values)\n",
    "plt.show()\n"
   ]
  },
  {
   "cell_type": "markdown",
   "id": "36046278",
   "metadata": {},
   "source": [
    "They are the same, just with different names of the nodes.\n",
    "\n",
    "### Result\n",
    "For the labeled graph $(x, A)$, if $g \\in S_n$ with respesentation $P = \\rho(g)$ on $\\mathbb{R}^n$, then, then $(x,A)$ corresponds to $(Px, PAP^{-1})= (Px, PAP^T)$."
   ]
  },
  {
   "cell_type": "markdown",
   "id": "b0cfba65",
   "metadata": {},
   "source": [
    "## (3) Grids"
   ]
  },
  {
   "cell_type": "markdown",
   "id": "82eae24b",
   "metadata": {},
   "source": [
    "Recall that we had *the cyclic group* $C_{n} = \\{ 0, 1, \\dots, n-1\\}$ with operation $+$ that is computed modulo $n$. A grid is a product $C_m \\times C_n$. The grid has a distance\n",
    "$$d(x,y) = \\|x-y\\| = \\sqrt{(x[0] -y[0])^2 +(x[1] -y[1])^2}.$$\n",
    "So we want a symmetry to preserve this distance. For these grids, we have translations\n",
    "$$\\tau(p,q)[i,j] = [i+p \\bmod m,j+q \\bmod n], \\qquad (i,j), (p,q) \\in C_m \\times C_n.$$\n",
    "\n",
    "If we have a function on $x:C_m \\times C_n \\to \\mathbb{R}$\n",
    "$$(\\tau(p,q)x)[i,j] = x[i-p \\bmod m,j-q \\bmod n ].$$"
   ]
  },
  {
   "cell_type": "code",
   "execution_count": null,
   "id": "c8424bee",
   "metadata": {},
   "outputs": [],
   "source": [
    "from numpy import random"
   ]
  },
  {
   "cell_type": "code",
   "execution_count": null,
   "id": "c688b5c9",
   "metadata": {},
   "outputs": [],
   "source": [
    "def SlowTau(arr,p,q):\n",
    "    [m,n] = arr.shape\n",
    "    newarr = np.zeros([m,n])\n",
    "    \n",
    "    for i in range(m):\n",
    "        for j in range(n):\n",
    "            newarr[i,j] = arr[(i-p)%m, (j-q)%n]\n",
    "            \n",
    "    return newarr\n",
    "    "
   ]
  },
  {
   "cell_type": "code",
   "execution_count": null,
   "id": "2937be0e",
   "metadata": {},
   "outputs": [],
   "source": [
    "A = random.randint(20,size=(5,8))\n",
    "print(A)"
   ]
  },
  {
   "cell_type": "code",
   "execution_count": null,
   "id": "a9c3b354",
   "metadata": {},
   "outputs": [],
   "source": [
    "SlowTau(A,1,2)"
   ]
  },
  {
   "cell_type": "code",
   "execution_count": null,
   "id": "0e3b6f6d",
   "metadata": {},
   "outputs": [],
   "source": [
    "def Tau(arr,p,q):\n",
    "    return np.roll(arr, (p, q), axis=(0, 1))"
   ]
  },
  {
   "cell_type": "code",
   "execution_count": null,
   "id": "b4a6edd5",
   "metadata": {},
   "outputs": [],
   "source": [
    "Tau(A,1,2)"
   ]
  },
  {
   "cell_type": "code",
   "execution_count": null,
   "id": "8c7d7f85",
   "metadata": {},
   "outputs": [],
   "source": [
    "import cv2\n"
   ]
  },
  {
   "cell_type": "code",
   "execution_count": null,
   "id": "ef1cae4e",
   "metadata": {},
   "outputs": [],
   "source": [
    "I = cv2.imread(\"barbara.bmp\",cv2.IMREAD_GRAYSCALE).astype(np.float32)\n",
    "plt.imshow(I, cmap=\"gray\")"
   ]
  },
  {
   "cell_type": "code",
   "execution_count": null,
   "id": "dd7f57c4",
   "metadata": {},
   "outputs": [],
   "source": [
    "plt.imshow(Tau(I,100,200), cmap=\"gray\")"
   ]
  },
  {
   "cell_type": "markdown",
   "id": "ae13ca85",
   "metadata": {},
   "source": [
    "## (4) Continuous spaces"
   ]
  },
  {
   "cell_type": "markdown",
   "id": "8a53f824",
   "metadata": {},
   "source": [
    "### Euclidean space"
   ]
  },
  {
   "cell_type": "markdown",
   "id": "354aaf0a",
   "metadata": {},
   "source": [
    "Let us consider $\\mathbb{R}^2$ with the distance between points $\\|a -b\\| =\\sqrt{(a_1-b_1)^2+(a_2-b_2)^2}$. Symmetries then come in three types\n",
    "* Translations (shifting): $\\tau(p) = p+a$ for some $a  \\in \\mathbb{R}^2$\n",
    "* Rotations by an angle $\\theta$. Can be written as\n",
    "$$R_\\theta p, \\qquad R_\\theta = \\begin{pmatrix} \\cos \\theta & - \\sin \\theta \\\\ \\sin \\theta & \\cos \\theta \\end{pmatrix}.$$\n",
    "* Mirroring along the line $L = \\text{span} \\{u\\}$ where $u =(u_1,u_2)$ is a unit vector field,\n",
    "$$M_u p, \\qquad M_u = \\begin{pmatrix} u_1^2-u_2^2 & 2u_1u_2  \\\\ 2u_1 u_2& u_2^2- u_1^2 \\end{pmatrix}.$$\n",
    "Can be combined as\n",
    "$$\\sigma(p) = Rp +a, \\qquad R =\\begin{pmatrix} \\cos \\theta & \\pm \\sin \\theta \\\\ \\sin \\theta & \\cos \\theta \\end{pmatrix} \\in O(2).$$\n",
    "$O(2)$ is the space of $2 \\times 2$ orthogonal matrices. $SO(2)$ is the space of all orthogonal matrices with determinant 1, that correspond to rotation. Matrices that are combination of rotation and a reflection has determinant $-1$."
   ]
  },
  {
   "cell_type": "markdown",
   "id": "dec524c6",
   "metadata": {},
   "source": [
    "<span style=\"font-size:24px; color:blue\">\n",
    "Exercise: Consider the grid $C_m \\times C_n$. Does rotation and mirroring make sense for this grid?\n",
    "\n",
    "</span>"
   ]
  },
  {
   "cell_type": "code",
   "execution_count": null,
   "id": "a4b959bc",
   "metadata": {},
   "outputs": [],
   "source": [
    "# Write your answer here."
   ]
  },
  {
   "cell_type": "markdown",
   "id": "16c51d70",
   "metadata": {},
   "source": [
    "### Spheres (manifold)"
   ]
  },
  {
   "cell_type": "code",
   "execution_count": null,
   "id": "fe968878",
   "metadata": {},
   "outputs": [],
   "source": [
    "from mpl_toolkits.mplot3d import Axes3D\n",
    "#from matplotlib import cm\n",
    "from matplotlib import image\n",
    "\n",
    "\n",
    "# Generate the sphere\n",
    "phi, theta = np.mgrid[0.0:2.0 * np.pi:1024j, 0.0:np.pi:1024j]\n",
    "x = np.sin(theta) * np.cos(phi)\n",
    "y = np.sin(theta) * np.sin(phi)\n",
    "z = np.cos(theta)\n",
    "\n",
    "# Create a figure and a 3D axis\n",
    "fig = plt.figure()\n",
    "ax = fig.add_subplot(111, projection='3d')\n",
    "\n",
    "# Map the image onto the sphere\n",
    "ax.plot_surface(x, y, z, cmap= 'Spectral')\n",
    "\n",
    "# Hide the axes\n",
    "ax.set_axis_off()\n",
    "\n",
    "plt.show()"
   ]
  },
  {
   "cell_type": "markdown",
   "id": "f22d25a1",
   "metadata": {},
   "source": [
    "Consider the space\n",
    "$$S^2 = \\left\\{ p = \\begin{pmatrix} p[1] \\\\ p[2] \\\\ p[3] \\end{pmatrix} \\in \\mathbb{R}^3 \\, : \\, \\|p\\| = \\sqrt{p[1]^2+ p[2]^2 + p[3]^2} =1\\right\\}.$$\n",
    "This is an example of **a manifold**: A space that can locally be flattened to a vector space, but not necessarily globally. We can also have signals on the sphere like images."
   ]
  },
  {
   "cell_type": "markdown",
   "id": "a1a29cfe",
   "metadata": {},
   "source": [
    "\n",
    "**Symmetries** Rotations matrices of $\\mathbb{R}^3$: An orthogonal matrix\n",
    "$$A A^\\top = I_3, \\qquad A = \\begin{pmatrix} A_1 & A_2 & A_3 \\end{pmatrix}.$$\n",
    "where $A_1$, $A_2$, $A_3$ is an orthonormal basis of $\\mathbb{R}^3$.\n"
   ]
  },
  {
   "cell_type": "code",
   "execution_count": null,
   "id": "2d28f645",
   "metadata": {},
   "outputs": [],
   "source": [
    "from mpl_toolkits.mplot3d import Axes3D\n",
    "#from matplotlib import cm\n",
    "from matplotlib import image\n",
    "\n",
    "img = image.imread('barbara.bmp')\n",
    "img = np.tile(img, (2, 2,1))\n",
    "\n",
    "\n",
    "# Generate the sphere\n",
    "phi, theta = np.mgrid[0.0:2.0 * np.pi:1024j, 0.0:np.pi:1024j]\n",
    "x = np.sin(theta) * np.cos(phi)\n",
    "y = np.sin(theta) * np.sin(phi)\n",
    "z = np.cos(theta)\n",
    "\n",
    "# Create a figure and a 3D axis\n",
    "fig = plt.figure()\n",
    "ax = fig.add_subplot(111, projection='3d')\n",
    "\n",
    "# Map the image onto the sphere\n",
    "ax.plot_surface(x, y, z, rstride=1, cstride=1, facecolors=img/255., shade=False)\n",
    "\n",
    "# Hide the axes\n",
    "ax.set_axis_off()\n",
    "\n",
    "plt.show()"
   ]
  },
  {
   "cell_type": "code",
   "execution_count": null,
   "id": "d0205191",
   "metadata": {},
   "outputs": [],
   "source": [
    "# Let us try to rotate this image with a random rotation from SO(3) (special orthogonal group)\n",
    "from scipy.stats import special_ortho_group"
   ]
  },
  {
   "cell_type": "code",
   "execution_count": null,
   "id": "0cc2fb06",
   "metadata": {},
   "outputs": [],
   "source": [
    "rot = special_ortho_group.rvs(3, random_state=0)\n",
    "print(rot)\n"
   ]
  },
  {
   "cell_type": "code",
   "execution_count": null,
   "id": "76ddc3d2",
   "metadata": {},
   "outputs": [],
   "source": [
    "w = np.tensordot(np.linalg.inv(rot), np.array([x,y,z]), axes=(1, 0))\n",
    "\n",
    "\n",
    "# Create a figure and a 3D axis\n",
    "fig2 = plt.figure()\n",
    "ax2 = fig2.add_subplot(111, projection='3d')\n",
    "\n",
    "# Map the image onto the sphere\n",
    "ax2.plot_surface(w[0], w[1], w[2], rstride=1, cstride=1, facecolors=img/255., shade=False)\n",
    "\n",
    "# Hide the axes\n",
    "ax2.set_axis_off()\n",
    "\n",
    "plt.show()"
   ]
  },
  {
   "cell_type": "markdown",
   "id": "529bb0bf",
   "metadata": {},
   "source": [
    "# Summary for today\n",
    "\n",
    "We have several examples of symmetries.\n",
    "* For sets, we have permutations/relabling.\n",
    "* For graphs with nodes labeled, we have permutations acting by $(x,A) \\mapsto (Px, PAP^\\top)$.\n",
    "* For grids, we have translations, mirroring and rotations.\n",
    "* For non-linear spaces, we often have other symmetries.\n",
    "Symmetries can be organized into *groups*. These give rise to *group action* on the space and on its signals.\n",
    "\n",
    "Models are invariant if $f(g\\cdot x) = f(x)$ and equivariant $f(g\\cdot x)= g \\cdot f(x)$. We will learn more about such models tomorrow."
   ]
  },
  {
   "cell_type": "code",
   "execution_count": null,
   "id": "665e6d42",
   "metadata": {},
   "outputs": [],
   "source": []
  }
 ],
 "metadata": {
  "kernelspec": {
   "display_name": "Python 3 (ipykernel)",
   "language": "python",
   "name": "python3"
  },
  "language_info": {
   "codemirror_mode": {
    "name": "ipython",
    "version": 3
   },
   "file_extension": ".py",
   "mimetype": "text/x-python",
   "name": "python",
   "nbconvert_exporter": "python",
   "pygments_lexer": "ipython3",
   "version": "3.8.16"
  }
 },
 "nbformat": 4,
 "nbformat_minor": 5
}
