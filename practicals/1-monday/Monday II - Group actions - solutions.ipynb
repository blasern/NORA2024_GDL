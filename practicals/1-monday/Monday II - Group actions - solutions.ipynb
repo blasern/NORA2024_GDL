{
 "cells": [
  {
   "cell_type": "markdown",
   "id": "7b36c889",
   "metadata": {},
   "source": [
    "# Monday exercises II Solutions"
   ]
  },
  {
   "cell_type": "markdown",
   "id": "c099490c",
   "metadata": {},
   "source": [
    "## Group actions"
   ]
  },
  {
   "cell_type": "markdown",
   "id": "50351bee",
   "metadata": {},
   "source": [
    "### Exercise 1"
   ]
  },
  {
   "cell_type": "markdown",
   "id": "8b6f7019",
   "metadata": {},
   "source": [
    "(a) Define $2\\times 2$ matrices $R$ and $S$. $R$ is supposed to rotate a vector 90 degrees ($\\frac{\\pi}{2}$-radians) in the counter-clockwise direction. $S$ gives the mirror image through the $x$-axis."
   ]
  },
  {
   "cell_type": "code",
   "execution_count": null,
   "id": "cdd1b161",
   "metadata": {},
   "outputs": [],
   "source": [
    "import numpy as np"
   ]
  },
  {
   "cell_type": "code",
   "execution_count": null,
   "id": "a9692adb",
   "metadata": {},
   "outputs": [],
   "source": [
    "# first column; what the matrix will do to [1,0]. Second column: what it will do to [0,1]\n",
    "R = np.array([[0,-1],[1,0]])\n",
    "S = np.array([[1,0],[0,-1]])\n"
   ]
  },
  {
   "cell_type": "markdown",
   "id": "4fd3ee10",
   "metadata": {},
   "source": [
    "(b) Generate a random set in $\\mathbb{R}^2$  of 100 points so that you can show the effect of multiplying these points with $R$ and $S$ before and after. Multiplication here refers to multiplication of a matrix and a vector. The output should not look similar for $R$ and $S$. Plot the original points and their image after applying $R$ and $S$ in the same plot. What do you want to avoid in order for them to look different?"
   ]
  },
  {
   "cell_type": "code",
   "execution_count": null,
   "id": "f0523fe3",
   "metadata": {},
   "outputs": [],
   "source": [
    "# We cannot have something  that is not rotationally invariant and not invariant under reflection\n",
    "# with the x-axis\n",
    "# If we generate random vectors in with all values in [0,1] x [0,1], then we \n",
    "np.random.seed(0)\n",
    "pts1 =np.random.rand(2,100)\n",
    "Rpts1 = R @ pts1\n",
    "Spts1 = S @ pts1"
   ]
  },
  {
   "cell_type": "code",
   "execution_count": null,
   "id": "c7cc8955",
   "metadata": {},
   "outputs": [],
   "source": [
    "import matplotlib.pyplot as plt"
   ]
  },
  {
   "cell_type": "code",
   "execution_count": null,
   "id": "dc6112f5",
   "metadata": {},
   "outputs": [],
   "source": [
    "plt.scatter(x=pts1[0,:],y=pts1[1,:])\n",
    "plt.scatter(x=Rpts1[0,:], y=Rpts1[1,:])\n",
    "plt.scatter(x=Spts1[0,:], y=Spts1[1,:])\n",
    "plt.legend([\"Original points\", \"Rotation by R\",\"Reflection by S\"])\n",
    "\n",
    "plt.show()\n"
   ]
  },
  {
   "cell_type": "markdown",
   "id": "9665b5a9",
   "metadata": {},
   "source": [
    "### Exercise 2"
   ]
  },
  {
   "cell_type": "markdown",
   "id": "6591f300",
   "metadata": {},
   "source": [
    "In this exercise, we are again trying to understand groups using matrix multiplication."
   ]
  },
  {
   "cell_type": "markdown",
   "id": "f87d1080",
   "metadata": {},
   "source": [
    "(a) Write a function that does the following:\n",
    "* Takes as input a list $List$ of square $2\\times 2$ matrices.\n",
    "* Make a new list $List1$ of matrices that which includes $List0$ but adjoins all possible products by matrix multiplication from $List0$. Do not add matrices that are already in the list.\n",
    "* Continue this procedure until either there are no new matrices or until the list has reached 100 elements (or some other upper threshold that you might prefer).\n"
   ]
  },
  {
   "cell_type": "code",
   "execution_count": null,
   "id": "d797bcf4",
   "metadata": {},
   "outputs": [],
   "source": [
    "# 2a. Defining a funciton to generate all possible matrices\n",
    "\n",
    "def GenerateMat(List,n=100):\n",
    "    NewMat = True\n",
    "    List1 = List\n",
    "    \n",
    "    while NewMat:\n",
    "        NewMat = False\n",
    "        List0 = List1\n",
    "        l = len(List1)\n",
    "        \n",
    "        for i in range(0,l):\n",
    "            for j in range(0,l):\n",
    "                A = List0[i] @ List0[j]\n",
    "                \n",
    "                k=0\n",
    "                Notequal = True\n",
    "                \n",
    "                while Notequal and k < len(List1):\n",
    "                    Notequal = not np.array_equal(A,List1[k])\n",
    "                    k+=1\n",
    "                \n",
    "                if Notequal:\n",
    "                    List1.append(A)\n",
    "        \n",
    "        if len(List1) < n:\n",
    "            if len(List1) > l:\n",
    "                NewMat = True\n",
    "        else:\n",
    "            print('Maximal length of list reached')\n",
    "    \n",
    "    \n",
    "    return List1\n"
   ]
  },
  {
   "cell_type": "markdown",
   "id": "28130429",
   "metadata": {},
   "source": [
    "(b) Test your function by implementing it with the list with $R$ and $S$. What is the output $G$? Is $G$ a group?"
   ]
  },
  {
   "cell_type": "code",
   "execution_count": null,
   "id": "f75891a8",
   "metadata": {},
   "outputs": [],
   "source": [
    "# 2b We generate it from R and S\n",
    "G = GenerateMat([R,S])\n",
    "print(G)\n",
    "# This contains 8 elements and it is a group"
   ]
  },
  {
   "cell_type": "markdown",
   "id": "1a5403cc",
   "metadata": {},
   "source": [
    "(c) For $G$ as in 2(b), update your point cloud from 1(b) so that it will be different under each group element in $G$."
   ]
  },
  {
   "cell_type": "code",
   "execution_count": null,
   "id": "db144f03",
   "metadata": {},
   "outputs": [],
   "source": [
    "# 2c Our original point clould would be the same for mirroring in the x-axis and rotation by -90 degrees\n",
    "# So we change it.\n",
    "\n",
    "# Option 1: Make it into a triangle\n",
    "# We move all the points into a triangle bound by the lines x=0, y=2x, y= 2-2x\n",
    "# Recall that pts1 is on uniform on [0,1]x[0,1].\n",
    "# For each y, we map the x-coordinate from [0,1] to [y/2,1-y/2]\n",
    "# hence, we map x to 0.5y +(1-y)x\n",
    "\n",
    "pts2 = np.array([0.5*pts1[1] + (1-pts1[1])*pts1[0],pts1[1]])\n",
    "plt.scatter(x=pts2[0,:],y=pts2[1,:])\n",
    "plt.xlim(0, 1)\n",
    "\n",
    "plt.show()\n"
   ]
  },
  {
   "cell_type": "code",
   "execution_count": null,
   "id": "f54ed92f",
   "metadata": {},
   "outputs": [],
   "source": [
    "# Plot all elements in G\n",
    "for k in range(0,len(G)):\n",
    "    A = G[k]\n",
    "    ptsG = A @ pts2\n",
    "    plt.scatter(x=ptsG[0,:],y=ptsG[1,:])\n",
    "\n",
    "plt.show()\n"
   ]
  },
  {
   "cell_type": "code",
   "execution_count": null,
   "id": "3787c367",
   "metadata": {},
   "outputs": [],
   "source": [
    "# Option 2: We introduce some asymmetry in the point block\n",
    "pts3 = np.array([2*(pts1[0]**(1/4)),pts1[1]])\n",
    "plt.scatter(x=pts3[0,:],y=pts3[1,:])\n",
    "\n",
    "plt.show()"
   ]
  },
  {
   "cell_type": "code",
   "execution_count": null,
   "id": "f64552b8",
   "metadata": {},
   "outputs": [],
   "source": [
    "# Plot all elements in G\n",
    "for k in range(0,len(G)):\n",
    "    A = G[k]\n",
    "    ptsG = A @ pts3\n",
    "    plt.scatter(x=ptsG[0,:],y=ptsG[1,:])\n",
    "\n",
    "plt.show()\n"
   ]
  },
  {
   "cell_type": "markdown",
   "id": "52a5ea2c",
   "metadata": {},
   "source": [
    "(d) Test your function with the list only containing the matrix\n",
    "$$P = \\begin{pmatrix} 1 & 0 \\\\ 0 & 0 \\end{pmatrix}.$$\n",
    "Check that this is not a group.\n",
    "\n",
    "If the process stops withing the time-limit, how can we not end up with a group? Can you modify the code to check if it is possible, and give an error if this is not the case."
   ]
  },
  {
   "cell_type": "code",
   "execution_count": null,
   "id": "24f0a755",
   "metadata": {},
   "outputs": [],
   "source": [
    "# 2d We see on the other hand that\n",
    "P = np.array([[1,0],[0,0]])\n",
    "print(GenerateMat([P]))\n",
    "# which is not a group."
   ]
  },
  {
   "cell_type": "code",
   "execution_count": null,
   "id": "270c9bc4",
   "metadata": {},
   "outputs": [],
   "source": [
    "# We will never get a group if our list contains non-invertible elements.\n",
    "# Luckily, if our initial matrices are invertible, so will all of their products.\n",
    "\n",
    "\n",
    "def GenerateGroup(List,n=100):\n",
    "    NewMat = True\n",
    "    List1 = List\n",
    "    \n",
    "    k=0\n",
    "    while NewMat and (k < len(List1)):\n",
    "        if np.linalg.det(List1[k]) == 0:\n",
    "            print(\"Error: Non invertible elements in the list\")\n",
    "            NewMat = False\n",
    "        else:\n",
    "            k +=1\n",
    "            \n",
    "    \n",
    "    while NewMat:\n",
    "        NewMat = False\n",
    "        List0 = List1\n",
    "        l = len(List1)\n",
    "        \n",
    "        for i in range(0,l):\n",
    "            for j in range(0,l):\n",
    "                A = List0[i] @ List0[j]\n",
    "                \n",
    "                k=0\n",
    "                Notequal = True\n",
    "                \n",
    "                while Notequal and k < len(List1):\n",
    "                    Notequal = not np.array_equal(A,List1[k])\n",
    "                    k+=1\n",
    "                \n",
    "                if Notequal:\n",
    "                    List1.append(A)\n",
    "        \n",
    "        if len(List1) < n:\n",
    "            if len(List1) > l:\n",
    "                NewMat = True\n",
    "        else:\n",
    "            print(\"Maximal length of list reached\")\n",
    "    \n",
    "    \n",
    "    return List1\n"
   ]
  },
  {
   "cell_type": "markdown",
   "id": "f0cc95b5",
   "metadata": {},
   "source": [
    "## Rotation and reflection group"
   ]
  },
  {
   "cell_type": "markdown",
   "id": "46e0e5f2",
   "metadata": {},
   "source": [
    "(a) Recall the definition of the rotation matrix $R$ ($90^{\\circ}$ rotation) and mirroring $S$ along the $x$-axis.\n",
    "Define the group $D_4$ as pairs of tuple $(r,s)$, $r=0,1,2,3$, $s=0,1$ such that\n",
    "$$(r_1, s_1) \\cdot (r_2, s_2) = (r_3,s_3) \\qquad \\text{if} \\qquad R^{r_1} S^{s_1} R^{r_2} S^{s_2} = R^{r_3} S^{s_3}.$$\n",
    "Show that\n",
    "$$(r_1 ,s_1) \\cdot (r_2, s_2) = (r_1 +(-1)^{s_1} r_2 \\bmod 4, s_1+s_2 \\bmod 2).$$\n",
    "What is the identity? Find the formula for the inverse."
   ]
  },
  {
   "cell_type": "code",
   "execution_count": null,
   "id": "cba709e6",
   "metadata": {},
   "outputs": [],
   "source": [
    "# We observe that\n",
    "print('SR', R @ S,'\\n', 'S R^3 = SR^{-1}', S@(np.linalg.matrix_power(R,3)))"
   ]
  },
  {
   "cell_type": "markdown",
   "id": "ce6de8cd",
   "metadata": {},
   "source": [
    "Using this property iteratively and using that $S^0 =I$ is the identity matrix,\n",
    "$$S^{s} R^r  =R^{(-1)^s r} S^s$$\n",
    "This gives us\n",
    "$$R^{r_1} S^{s_1} R^{r_2} S^{s_2} = R^{r_1} R^{(-1)^{s_2} r_2} S^{s_1}  S^{s_2} = R^{r_1+(-1)^{s_1}r_2}S^{s_1+s_2}$$\n",
    "Since $R^4 =S^2 = I$, the result follows.\n",
    "\n",
    "The identity is $(0,0)$. For a tuple $(r,0)$, we see that $(- r \\bmod 4, 0)$ is the inverse. For $(r,1)$, the inverse is $(r,1)$. We can summarize this as\n",
    "$$(r,s)^{-1} = ((-1)^{s+1} r \\bmod 4, s).$$"
   ]
  },
  {
   "cell_type": "markdown",
   "id": "704c5314",
   "metadata": {},
   "source": [
    "(b) Make a class D4 representing the group, which as a defined method defined for product and inverse."
   ]
  },
  {
   "cell_type": "code",
   "execution_count": null,
   "id": "4a47f5f6",
   "metadata": {},
   "outputs": [],
   "source": [
    "class D4:\n",
    "    def __init__(self, element):\n",
    "        # Valid elements of D4\n",
    "        self.elements = tuples_list = [(r, s) for r in range(4) for s in range(2)]\n",
    "        \n",
    "        if element not in self.elements:\n",
    "            raise ValueError(\"Invalid element for D4\")\n",
    "        \n",
    "        self.element = element\n",
    "    \n",
    "    def __repr__(self):\n",
    "        return f\"D4({self.element})\"\n",
    "    \n",
    "    def __mul__(self, other):\n",
    "        if not isinstance(other, D4):\n",
    "            raise ValueError(\"Can only multiply two D4 elements\")\n",
    "        \n",
    "        result = self.multiply(self.element, other.element)\n",
    "        return D4(result)\n",
    "    \n",
    "    def multiply(self, a, b):\n",
    "        c0 = a[0]+(-1)**b[1]*b[0]\n",
    "        c1 = a[1]+b[1]\n",
    "        \n",
    "        c0 = c0%4\n",
    "        c1 = c1%2\n",
    "        \n",
    "        return (c0,c1)\n",
    "    \n",
    "    def mult(self, b):\n",
    "        a = self.element\n",
    "        c0 = a[0]+(-1)**b[1]*b[0]\n",
    "        c1 = a[1]+b[1]\n",
    "        \n",
    "        c0 = c0%4\n",
    "        c1 = c1%2\n",
    "        \n",
    "        return (c0,c1)\n",
    "    \n",
    "    \n",
    "    \n",
    "    def inverse(self):\n",
    "        a= self.element\n",
    "        c0 = (-1)**a[1]*a[0]\n",
    "        c0 = c0%4\n",
    "        c1 = a[1]\n",
    "        \n",
    "        return (c0,c1)\n"
   ]
  },
  {
   "cell_type": "code",
   "execution_count": null,
   "id": "a9bf7fcc",
   "metadata": {},
   "outputs": [],
   "source": [
    "a = D4((2,1))\n",
    "b = D4((3,1))\n",
    "print(a*b)"
   ]
  },
  {
   "cell_type": "code",
   "execution_count": null,
   "id": "fdcbdc8f",
   "metadata": {},
   "outputs": [],
   "source": [
    "a.inverse()"
   ]
  },
  {
   "cell_type": "markdown",
   "id": "677528a8",
   "metadata": {},
   "source": [
    "(c) Make a function $f(g,img)$, where $g$ is in your new class `D4` and $img$ is an image and where the output is the action of $D4$ on the image. You can use standard functions in `cv2` for mirroring and translations. Test it on an image, showing all the configurations."
   ]
  },
  {
   "cell_type": "code",
   "execution_count": null,
   "id": "c12ebfd6",
   "metadata": {},
   "outputs": [],
   "source": [
    "import cv2"
   ]
  },
  {
   "cell_type": "code",
   "execution_count": null,
   "id": "d4abce85",
   "metadata": {},
   "outputs": [],
   "source": [
    "def Action(a,image):\n",
    "    tup= a.element\n",
    "    r = tup[0]\n",
    "    s = tup[1]\n",
    "    \n",
    "    img = image\n",
    "    \n",
    "    if s ==1:\n",
    "        img = cv2.flip(img,0)\n",
    "        \n",
    "    if r ==1:\n",
    "        img = cv2.rotate(img, cv2.ROTATE_90_COUNTERCLOCKWISE)\n",
    "    elif r==2:\n",
    "        img = cv2.rotate(img, cv2.ROTATE_180)\n",
    "    elif r==3:\n",
    "        img = cv2.rotate(img, cv2.ROTATE_90_CLOCKWISE)\n",
    "    \n",
    "    \n",
    "    return img\n",
    "        "
   ]
  },
  {
   "cell_type": "code",
   "execution_count": null,
   "id": "c900f5b6",
   "metadata": {},
   "outputs": [],
   "source": [
    "fig, axs = plt.subplots(4, 2)\n",
    "I = cv2.imread(\"../../lecture_notes/barbara.bmp\",cv2.IMREAD_GRAYSCALE).astype(np.float32)\n",
    "\n",
    "for r in range(4):\n",
    "    for s in range(2):\n",
    "        aD4 = D4((r,s))\n",
    "        axs[r,s].imshow(Action(aD4,I), cmap=\"gray\")\n",
    "\n",
    "\n",
    "plt.tight_layout()\n",
    "\n",
    "plt.show"
   ]
  }
 ],
 "metadata": {
  "kernelspec": {
   "display_name": "Python 3 (ipykernel)",
   "language": "python",
   "name": "python3"
  },
  "language_info": {
   "codemirror_mode": {
    "name": "ipython",
    "version": 3
   },
   "file_extension": ".py",
   "mimetype": "text/x-python",
   "name": "python",
   "nbconvert_exporter": "python",
   "pygments_lexer": "ipython3",
   "version": "3.8.16"
  }
 },
 "nbformat": 4,
 "nbformat_minor": 5
}
