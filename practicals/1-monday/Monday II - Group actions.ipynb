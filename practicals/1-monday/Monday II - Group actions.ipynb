{
 "cells": [
  {
   "cell_type": "markdown",
   "id": "7b36c889",
   "metadata": {},
   "source": [
    "# Monday exercises II"
   ]
  },
  {
   "cell_type": "markdown",
   "id": "c099490c",
   "metadata": {},
   "source": [
    "## Group actions"
   ]
  },
  {
   "cell_type": "markdown",
   "id": "50351bee",
   "metadata": {},
   "source": [
    "### Exercise 1"
   ]
  },
  {
   "cell_type": "markdown",
   "id": "8b6f7019",
   "metadata": {},
   "source": [
    "(a) Define $2\\times 2$ matrices $R$ and $S$. $R$ is supposed to rotate a vector 90 degrees ($\\frac{\\pi}{2}$-radians) in the counter-clockwise direction. $S$ gives the mirror image through the $x$-axis."
   ]
  },
  {
   "cell_type": "code",
   "execution_count": null,
   "id": "cdd1b161",
   "metadata": {},
   "outputs": [],
   "source": [
    "import numpy as np"
   ]
  },
  {
   "cell_type": "code",
   "execution_count": null,
   "id": "a9692adb",
   "metadata": {},
   "outputs": [],
   "source": [
    "# Fill inn your solution. We will use this R and S later.\n"
   ]
  },
  {
   "cell_type": "markdown",
   "id": "4fd3ee10",
   "metadata": {},
   "source": [
    "(b) Generate a random set in $\\mathbb{R}^2$  of 100 points so that you can show the effect of multiplying these points with $R$ and $S$ before and after. Multiplication here refers to multiplication of a matrix and a vector. The output should not look similar for $R$ and $S$. Plot the original points and their image after applying $R$ and $S$ in the same plot. What do you want to avoid in order for them to look different?"
   ]
  },
  {
   "cell_type": "code",
   "execution_count": null,
   "id": "c7cc8955",
   "metadata": {},
   "outputs": [],
   "source": [
    "# Might be helpful\n",
    "import matplotlib.pyplot as plt"
   ]
  },
  {
   "cell_type": "code",
   "execution_count": null,
   "id": "dc6112f5",
   "metadata": {},
   "outputs": [],
   "source": [
    "# Write your solution"
   ]
  },
  {
   "cell_type": "markdown",
   "id": "9665b5a9",
   "metadata": {},
   "source": [
    "### Exercise 2"
   ]
  },
  {
   "cell_type": "markdown",
   "id": "6591f300",
   "metadata": {},
   "source": [
    "In this exercise, we are again trying to understand groups using matrix multiplication."
   ]
  },
  {
   "cell_type": "markdown",
   "id": "f87d1080",
   "metadata": {},
   "source": [
    "(a) Write a function that does the following:\n",
    "* Takes as input a list $List$ of square $2\\times 2$ matrices.\n",
    "* Make a new list $List1$ of matrices that which includes $List0$ but adjoins all possible products by matrix multiplication from $List0$. Do not add matrices that are already in the list.\n",
    "* Continue this procedure until either there are no new matrices or until the list has reached 100 elements (or some other upper threshold that you might prefer).\n"
   ]
  },
  {
   "cell_type": "code",
   "execution_count": null,
   "id": "d797bcf4",
   "metadata": {},
   "outputs": [],
   "source": [
    "# Write your solution"
   ]
  },
  {
   "cell_type": "markdown",
   "id": "28130429",
   "metadata": {},
   "source": [
    "(b) Test your function by implementing it with the list with $R$ and $S$. What is the output $G$? Is $G$ a group?"
   ]
  },
  {
   "cell_type": "code",
   "execution_count": null,
   "id": "f75891a8",
   "metadata": {},
   "outputs": [],
   "source": [
    "# Write your solution"
   ]
  },
  {
   "cell_type": "markdown",
   "id": "1a5403cc",
   "metadata": {},
   "source": [
    "(c) For $G$ as in 2(b), update your point cloud from 1(b) so that it will be different under each group element in $G$."
   ]
  },
  {
   "cell_type": "code",
   "execution_count": null,
   "id": "db144f03",
   "metadata": {},
   "outputs": [],
   "source": [
    "# Write your solution. What do you need to change for your point cloud."
   ]
  },
  {
   "cell_type": "markdown",
   "id": "52a5ea2c",
   "metadata": {},
   "source": [
    "(d) Test your function with the list only containing the matrix\n",
    "$$P = \\begin{pmatrix} 1 & 0 \\\\ 0 & 0 \\end{pmatrix}.$$\n",
    "Check that this is not a group.\n",
    "\n",
    "If the process stops withing the time-limit, how can we not end up with a group? Can you modify the code to check if it is possible, and give an error if this is not the case."
   ]
  },
  {
   "cell_type": "code",
   "execution_count": null,
   "id": "24f0a755",
   "metadata": {},
   "outputs": [],
   "source": [
    "# What do you get? What can go wrong?"
   ]
  },
  {
   "cell_type": "markdown",
   "id": "f0cc95b5",
   "metadata": {},
   "source": [
    "## Rotation and reflection group"
   ]
  },
  {
   "cell_type": "markdown",
   "id": "46e0e5f2",
   "metadata": {},
   "source": [
    "(a) Recall the definition of the rotation matrix $R$ ($90^{\\circ}$ rotation) and mirroring $S$ along the $x$-axis.\n",
    "Define the group $D_4$ as pairs of tuple $(r,s)$, $r=0,1,2,3$, $s=0,1$ such that\n",
    "$$(r_1, s_1) \\cdot (r_2, s_2) = (r_3,s_3) \\qquad \\text{if} \\qquad R^{r_1} S^{s_1} R^{r_2} S^{s_2} = R^{r_3} S^{s_3}.$$\n",
    "Show that\n",
    "$$(r_1 ,s_1) \\cdot (r_2, s_2) = (r_1 +(-1)^{s_1} r_2 \\bmod 4, s_1+s_2 \\bmod 2).$$\n",
    "What is the identity? Find the formula for the inverse."
   ]
  },
  {
   "cell_type": "code",
   "execution_count": null,
   "id": "cba709e6",
   "metadata": {},
   "outputs": [],
   "source": [
    "# Fill in your answer. Hint: If you reflect, then rotate, how can you achieve\n",
    "#the same result with first rotating then reflecting?"
   ]
  },
  {
   "cell_type": "markdown",
   "id": "704c5314",
   "metadata": {},
   "source": [
    "(b) Make a class D4 representing the group, which as a defined method defined for product and inverse."
   ]
  },
  {
   "cell_type": "code",
   "execution_count": null,
   "id": "4a47f5f6",
   "metadata": {},
   "outputs": [],
   "source": [
    "class D4:\n",
    "    # what to fill inn"
   ]
  },
  {
   "cell_type": "code",
   "execution_count": null,
   "id": "a9bf7fcc",
   "metadata": {},
   "outputs": [],
   "source": [
    "# Test with some examples"
   ]
  },
  {
   "cell_type": "markdown",
   "id": "677528a8",
   "metadata": {},
   "source": [
    "(c) Make a function $f(g,img)$, where $g$ is in your new class `D4` and $img$ is an image and where the output is the action of $D4$ on the image. You can use standard functions in `cv2` for mirroring and translations. Test it on an image, showing all the configurations."
   ]
  },
  {
   "cell_type": "code",
   "execution_count": null,
   "id": "c12ebfd6",
   "metadata": {},
   "outputs": [],
   "source": [
    "import cv2"
   ]
  },
  {
   "cell_type": "code",
   "execution_count": null,
   "id": "d4abce85",
   "metadata": {},
   "outputs": [],
   "source": [
    "def Action(a,image):\n",
    "    # What to fill inn\n",
    "    \n",
    "    return img\n",
    "        "
   ]
  },
  {
   "cell_type": "code",
   "execution_count": null,
   "id": "c900f5b6",
   "metadata": {},
   "outputs": [],
   "source": [
    "# Show your group action"
   ]
  }
 ],
 "metadata": {
  "kernelspec": {
   "display_name": "Python 3 (ipykernel)",
   "language": "python",
   "name": "python3"
  },
  "language_info": {
   "codemirror_mode": {
    "name": "ipython",
    "version": 3
   },
   "file_extension": ".py",
   "mimetype": "text/x-python",
   "name": "python",
   "nbconvert_exporter": "python",
   "pygments_lexer": "ipython3",
   "version": "3.8.16"
  }
 },
 "nbformat": 4,
 "nbformat_minor": 5
}
