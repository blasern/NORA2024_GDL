{
 "cells": [
  {
   "cell_type": "markdown",
   "id": "64368116",
   "metadata": {},
   "source": [
    "# Monday exercise III"
   ]
  },
  {
   "cell_type": "markdown",
   "id": "30f4930a",
   "metadata": {},
   "source": [
    "## Open question"
   ]
  },
  {
   "cell_type": "markdown",
   "id": "ae0a615c",
   "metadata": {},
   "source": [
    "Does symmetries play a role in the problems you work on? Will objects that you would consider the same be treated in the same way by your model? Can these symmetries be formulated as a group?"
   ]
  },
  {
   "cell_type": "code",
   "execution_count": null,
   "id": "45b7772c",
   "metadata": {},
   "outputs": [],
   "source": [
    "# Write your answer here."
   ]
  },
  {
   "cell_type": "markdown",
   "id": "3dc6f95c",
   "metadata": {},
   "source": [
    "## Exercise: Data augmentation"
   ]
  },
  {
   "cell_type": "markdown",
   "id": "85b474cf",
   "metadata": {},
   "source": [
    "In this course, we want to consider invariance and equivarance problems. We want to present alternatives to solving it by data augmentation.\n",
    "\n",
    "But then we first have to introduce how data augmentation works."
   ]
  },
  {
   "cell_type": "markdown",
   "id": "cbf6fd3a",
   "metadata": {},
   "source": [
    "For completing this exercise, we will use MNIST dataset of handwritten digits, as $28 \\times 28$ images, where the objective is to recognize the digits."
   ]
  },
  {
   "cell_type": "markdown",
   "id": "a60a93db",
   "metadata": {},
   "source": [
    "1. Download and split the dataset into training, validation and test data. Make a neural network that you train on this dataset. It does not have to be very optimized.\n",
    "2. Rotate all of the data in the test set 90 degrees. Test your model on this rotated set.\n",
    "3. Expand your training set by adding by including both the original images and the once that are rotated 90, 180 and 270 degrees. Train again. What happens to your validation error?\n",
    "4. Test with both the original test data and your rotated test data. How do they compare to the origianl test in 1. and 2.?"
   ]
  },
  {
   "cell_type": "code",
   "execution_count": null,
   "id": "a8ee95d3",
   "metadata": {},
   "outputs": [],
   "source": [
    "# Write your answer here."
   ]
  }
 ],
 "metadata": {
  "kernelspec": {
   "display_name": "Python 3 (ipykernel)",
   "language": "python",
   "name": "python3"
  },
  "language_info": {
   "codemirror_mode": {
    "name": "ipython",
    "version": 3
   },
   "file_extension": ".py",
   "mimetype": "text/x-python",
   "name": "python",
   "nbconvert_exporter": "python",
   "pygments_lexer": "ipython3",
   "version": "3.8.16"
  }
 },
 "nbformat": 4,
 "nbformat_minor": 5
}
