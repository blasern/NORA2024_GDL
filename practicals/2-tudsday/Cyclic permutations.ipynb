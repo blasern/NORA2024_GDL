{
 "cells": [
  {
   "cell_type": "markdown",
   "id": "237fb1e7",
   "metadata": {},
   "source": [
    "## Cyclic permutations"
   ]
  },
  {
   "cell_type": "markdown",
   "id": "3c87e809",
   "metadata": {},
   "source": [
    "This is a variation of the exercise on even functions."
   ]
  },
  {
   "cell_type": "markdown",
   "id": "2d273faa",
   "metadata": {},
   "source": [
    "(a) We consider now a function $f: [-a, a]^3 \\to \\mathbb{R}$\n",
    "$$f(x,y,z),$$\n",
    "that is invariant under cyclic permutations of the variables. That is\n",
    "$$f(x,y,z) = f(y,z,x) = f(z,x,y).$$\n",
    "Find a group $G$ and an action of $[-a,a]^3$, such that the function $f$ is invariant."
   ]
  },
  {
   "cell_type": "code",
   "execution_count": null,
   "id": "a79b979c",
   "metadata": {},
   "outputs": [],
   "source": []
  },
  {
   "cell_type": "markdown",
   "id": "a4c80982",
   "metadata": {},
   "source": [
    "(b) Determine if the function\n",
    "$$f(x,y,z) = 2- \\cos(x+y+z) + \\cos(3xyz)$$\n",
    "satisfies the property i (a)."
   ]
  },
  {
   "cell_type": "code",
   "execution_count": null,
   "id": "bc83040d",
   "metadata": {},
   "outputs": [],
   "source": []
  },
  {
   "cell_type": "markdown",
   "id": "a609abe0",
   "metadata": {},
   "source": [
    "(c) Generate a dataset of $n = 500$ points $(x, y,z,w)$, where $(x,y,z)$ is sampled uniformly on $[-1, 1]^3$ and\n",
    "$$w = f(x,y,z) + \\varepsilon , \\qquad \\text{where $\\varepsilon$ has normal distribution with mean zero and standard deviation $0.1$}.$$"
   ]
  },
  {
   "cell_type": "code",
   "execution_count": null,
   "id": "0cdca70e",
   "metadata": {},
   "outputs": [],
   "source": []
  },
  {
   "cell_type": "markdown",
   "id": "9b134e8a",
   "metadata": {},
   "source": [
    "(d) Split the data into training, validation and testdata."
   ]
  },
  {
   "cell_type": "code",
   "execution_count": null,
   "id": "f7587498",
   "metadata": {},
   "outputs": [],
   "source": []
  },
  {
   "cell_type": "markdown",
   "id": "4ab7f190",
   "metadata": {},
   "source": [
    "(e) Fit a model with a 12-th order polynomial. Check model error on the validation data."
   ]
  },
  {
   "cell_type": "code",
   "execution_count": null,
   "id": "00355e2b",
   "metadata": {},
   "outputs": [],
   "source": []
  },
  {
   "cell_type": "markdown",
   "id": "efc243ae",
   "metadata": {},
   "source": [
    "(f) Change your model by first applying the smoothing operator. The command `np.roll` might be helpful for this. Check model error on the validation data."
   ]
  },
  {
   "cell_type": "code",
   "execution_count": null,
   "id": "6670a2b3",
   "metadata": {},
   "outputs": [],
   "source": []
  }
 ],
 "metadata": {
  "kernelspec": {
   "display_name": "Python 3 (ipykernel)",
   "language": "python",
   "name": "python3"
  },
  "language_info": {
   "codemirror_mode": {
    "name": "ipython",
    "version": 3
   },
   "file_extension": ".py",
   "mimetype": "text/x-python",
   "name": "python",
   "nbconvert_exporter": "python",
   "pygments_lexer": "ipython3",
   "version": "3.8.16"
  }
 },
 "nbformat": 4,
 "nbformat_minor": 5
}
