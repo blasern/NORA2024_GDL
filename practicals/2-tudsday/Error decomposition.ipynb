{
 "cells": [
  {
   "cell_type": "markdown",
   "id": "edfe7853",
   "metadata": {},
   "source": [
    "## Error decomposition"
   ]
  },
  {
   "cell_type": "markdown",
   "id": "bc26d425",
   "metadata": {},
   "source": [
    "\n",
    "The goal of this exercise is to better understand the error decomposition into the different components $\\inf_{f \\in \\mathcal{F}} \\mathcal{R}(f)$ into $\\varepsilon_{opt}$, $\\varepsilon_{stat}$ and $\\varepsilon_{approx}$.\n",
    "\n",
    "1. Generate 50 data points. The x-values should be uniformly at random between -3 and 3. The y-values should be $f(x) = (x-2)(x+2)(x+8) + \\varepsilon$, where $\\varepsilon$ is normally distributed with mean 0 and standard deviation 1. \n",
    "2. Divide the data into training, validation and test data. \n",
    "3. Fit a quadratic and a cubic model to the data. Check model error on the validation data. \n",
    "5. Decompose the model errors into the different types of error. \n"
   ]
  }
 ],
 "metadata": {
  "kernelspec": {
   "display_name": "Python 3 (ipykernel)",
   "language": "python",
   "name": "python3"
  },
  "language_info": {
   "codemirror_mode": {
    "name": "ipython",
    "version": 3
   },
   "file_extension": ".py",
   "mimetype": "text/x-python",
   "name": "python",
   "nbconvert_exporter": "python",
   "pygments_lexer": "ipython3",
   "version": "3.8.16"
  }
 },
 "nbformat": 4,
 "nbformat_minor": 5
}
