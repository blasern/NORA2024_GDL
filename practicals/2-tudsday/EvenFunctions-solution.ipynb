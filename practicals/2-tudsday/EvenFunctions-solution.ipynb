{
 "cells": [
  {
   "cell_type": "markdown",
   "id": "c8477d98",
   "metadata": {},
   "source": [
    "# Even functions\n",
    "\n",
    "Read through the following tutorial and fill in all the places where there is something missing (___)\n",
    "\n",
    "A function $f : [−a, a] \\rightarrow \\mathbb{R}$ is called even if\n",
    "$f (x) = f (−x)$.\n",
    "\n",
    "Below we try to learn an even function. First import the relevant packages. "
   ]
  },
  {
   "cell_type": "code",
   "execution_count": null,
   "id": "32a48da9",
   "metadata": {},
   "outputs": [],
   "source": [
    "import numpy as np\n",
    "import pandas as pd\n",
    "\n",
    "from sklearn.model_selection import train_test_split\n",
    "from sklearn.linear_model import LinearRegression\n",
    "from sklearn.preprocessing import PolynomialFeatures\n",
    "from sklearn.base import BaseEstimator\n",
    "from sklearn.metrics import mean_squared_error\n",
    "from sklearn.pipeline import make_pipeline\n",
    "\n",
    "import plotly.express as px\n",
    "import plotly.graph_objects as go\n",
    "\n",
    "import torch\n",
    "import torch.nn as nn\n",
    "import torch.nn.functional as F\n",
    "from torch.utils.data import TensorDataset, DataLoader"
   ]
  },
  {
   "cell_type": "markdown",
   "id": "0c02502d",
   "metadata": {},
   "source": [
    "## Data\n",
    "\n",
    "Here we generate some data of an even function. "
   ]
  },
  {
   "cell_type": "code",
   "execution_count": null,
   "id": "917c94ac",
   "metadata": {},
   "outputs": [],
   "source": [
    "def f(x):\n",
    "    return 2-np.cos(x) + (np.cos(3*x))**3-(np.cos(5*x))**5"
   ]
  },
  {
   "cell_type": "code",
   "execution_count": null,
   "id": "b99fe7b0",
   "metadata": {},
   "outputs": [],
   "source": [
    "rng = np.random.RandomState(0)\n",
    "\n",
    "n_samples = 100\n",
    "x = rng.uniform(low=-5, high=5, size=n_samples)\n",
    "y = f(x) + rng.normal(loc=0, scale=0.25, size=n_samples)"
   ]
  },
  {
   "cell_type": "code",
   "execution_count": null,
   "id": "d2b39879",
   "metadata": {},
   "outputs": [],
   "source": [
    "x_train, x_valtest, y_train, y_valtest = train_test_split(x, y, test_size=.3, random_state=0)\n",
    "x_val, x_test, y_val, y_test = train_test_split(x_valtest, y_valtest, test_size=.5, random_state=0)"
   ]
  },
  {
   "cell_type": "code",
   "execution_count": null,
   "id": "a277c50e",
   "metadata": {
    "scrolled": true
   },
   "outputs": [],
   "source": [
    "fig = px.scatter(x=x_train, y=y_train)\n",
    "x_values = np.linspace(-5, 5, 200)\n",
    "fig.add_trace(go.Scatter(x=x_values, y=f(x_values), showlegend=False))\n",
    "fig.show()"
   ]
  },
  {
   "cell_type": "markdown",
   "id": "3241e137",
   "metadata": {},
   "source": [
    "Just for reference, we compute the best possible error, i.e. the validation error we would get if we knew the correct function. "
   ]
  },
  {
   "cell_type": "code",
   "execution_count": null,
   "id": "f9a2ba89",
   "metadata": {},
   "outputs": [],
   "source": [
    "best_pred = f(x_val)\n",
    "best_error = mean_squared_error(y_val, best_pred, squared=False)\n",
    "print(best_error)"
   ]
  },
  {
   "cell_type": "markdown",
   "id": "2ddbc367",
   "metadata": {},
   "source": [
    "## Non-invariant solution\n",
    "\n",
    "We first fit a polynomial regression of degree 12. Fill in the ___. "
   ]
  },
  {
   "cell_type": "code",
   "execution_count": null,
   "id": "7818e9ad",
   "metadata": {
    "scrolled": true
   },
   "outputs": [],
   "source": [
    "model1 = make_pipeline(PolynomialFeatures(degree=12), LinearRegression())"
   ]
  },
  {
   "cell_type": "code",
   "execution_count": null,
   "id": "891bef1f",
   "metadata": {},
   "outputs": [],
   "source": [
    "model1.fit(x_train.reshape(-1, 1), y_train)\n",
    "pred = model1.predict(x_val.reshape(-1, 1))\n",
    "ni_rmse = mean_squared_error(y_val, pred, squared=False)\n",
    "\n",
    "print(\"true:\", best_error, \", 12th order polynomial:\", ni_rmse)"
   ]
  },
  {
   "cell_type": "code",
   "execution_count": null,
   "id": "7381c79a",
   "metadata": {},
   "outputs": [],
   "source": [
    "fig = go.Figure()\n",
    "fig.add_trace(go.Scatter(x=x_train, y=y_train, mode='markers', showlegend=False))\n",
    "fig.add_trace(go.Scatter(x=x_values, y=f(x_values), name='true function'))  \n",
    "fig.add_trace(go.Scatter(x=x_values, \n",
    "                             y=model1.predict(x_values.reshape(-1, 1)), \n",
    "                             name='12poly'))\n",
    "fig.show()"
   ]
  },
  {
   "cell_type": "markdown",
   "id": "465f8c4c",
   "metadata": {},
   "source": [
    "## Smoothing predictions\n",
    "\n",
    "A first possibility to get an invariant model is to smooth predictions. That is, we use the original model for training, but when predicting, we use the smooth version. "
   ]
  },
  {
   "cell_type": "code",
   "execution_count": null,
   "id": "a75a52c7",
   "metadata": {},
   "outputs": [],
   "source": [
    "# We apply smoothening operator to our model.\n",
    "class EvenModel(BaseEstimator):\n",
    "    def __init__(self, model):\n",
    "        super().__init__()\n",
    "        self.model = model\n",
    "    \n",
    "    def fit(self, X, y):\n",
    "        self.model.fit(X, y)\n",
    "        \n",
    "    def predict(self, X):\n",
    "        predictions = np.array([self.model.predict(X), self.model.predict(-X)])\n",
    "        return np.mean(predictions, axis=0)"
   ]
  },
  {
   "cell_type": "code",
   "execution_count": null,
   "id": "cb2be820",
   "metadata": {},
   "outputs": [],
   "source": [
    "# We only consider even function\n",
    "model2 = EvenModel(model1)"
   ]
  },
  {
   "cell_type": "code",
   "execution_count": null,
   "id": "aa2337a5",
   "metadata": {
    "scrolled": true
   },
   "outputs": [],
   "source": [
    "# We get an improved result for our second approach\n",
    "model2.fit(x_train.reshape(-1, 1), y_train)\n",
    "pred2 = model2.predict(x_val.reshape(-1, 1))\n",
    "ip_rmse = mean_squared_error(y_val, pred2, squared=False)\n",
    "\n",
    "print(\"true:\",best_error, \", 12th order polynomial:\", ip_rmse)"
   ]
  },
  {
   "cell_type": "code",
   "execution_count": null,
   "id": "3e8dfe04",
   "metadata": {},
   "outputs": [],
   "source": [
    "fig = go.Figure()\n",
    "fig.add_trace(go.Scatter(x=x_train, y=y_train, mode='markers', showlegend=False))\n",
    "fig.add_trace(go.Scatter(x=x_values, y=f(x_values), name='true function'))\n",
    "fig.add_trace(go.Scatter(x=x_values, \n",
    "                             y=model2.predict(x_values.reshape(-1, 1)), \n",
    "                             name='12poly-Even'))\n",
    "fig.show()"
   ]
  },
  {
   "cell_type": "markdown",
   "id": "e3a2c171",
   "metadata": {},
   "source": [
    "## Smoothing training\n",
    "\n",
    "Another possibility is to already take into account the fact that the function should be even in training and use the smmothing operator also for training. "
   ]
  },
  {
   "cell_type": "code",
   "execution_count": null,
   "id": "f539809a",
   "metadata": {},
   "outputs": [],
   "source": [
    "class EvenPolyNN(nn.Module):\n",
    "    def __init__(self, deg=12):\n",
    "        super().__init__()\n",
    "        self.deg = deg\n",
    "        self.layer = nn.Linear(self.deg, 1)\n",
    "\n",
    "    def forward(self, x):\n",
    "        positive = torch.cat([x.pow(k) for k in range(1, self.deg+1)], dim = 1)\n",
    "        negative = torch.cat([(-x).pow(k) for k in range(1, self.deg+1)], dim = 1)\n",
    "        out = self.layer(positive) + self.layer(negative)\n",
    "        return out.flatten()/2"
   ]
  },
  {
   "cell_type": "code",
   "execution_count": null,
   "id": "cedc7f0e",
   "metadata": {},
   "outputs": [],
   "source": [
    "trainset = TensorDataset(torch.Tensor(x_train.reshape(-1, 1)), torch.Tensor(y_train))\n",
    "trainloader = DataLoader(trainset, batch_size=16, shuffle=True)\n",
    "\n",
    "valset = TensorDataset(torch.Tensor(x_val.reshape(-1, 1)), torch.Tensor(y_val))\n",
    "valloader = DataLoader(valset, batch_size=16, shuffle=False)"
   ]
  },
  {
   "cell_type": "code",
   "execution_count": null,
   "id": "c397a073",
   "metadata": {},
   "outputs": [],
   "source": [
    "model3 = EvenPolyNN(12) \n",
    "model3.layer.bias.data = torch.Tensor(np.array([model1[1].intercept_]))\n",
    "model3.layer.weight.data = torch.Tensor(model1[1].coef_[1:].reshape(1, -1))\n",
    "\n",
    "device = torch.device('cuda' if torch.cuda.is_available() else 'cpu')\n",
    "model = model3.to(device)\n",
    "optimizer = torch.optim.Adam(model.parameters(), lr=1e-8, weight_decay=1e-8)\n",
    "\n",
    "model.train()"
   ]
  },
  {
   "cell_type": "code",
   "execution_count": null,
   "id": "4e2028f2",
   "metadata": {},
   "outputs": [],
   "source": [
    "# training\n",
    "n_epochs = 100\n",
    "\n",
    "for epoch in range(n_epochs):\n",
    "    for inputs, labels in trainloader:\n",
    "        optimizer.zero_grad()\n",
    "        outputs = model(inputs)\n",
    "        loss = F.mse_loss(outputs, labels)\n",
    "        loss.backward()\n",
    "        optimizer.step()"
   ]
  },
  {
   "cell_type": "code",
   "execution_count": null,
   "id": "f3a83964",
   "metadata": {},
   "outputs": [],
   "source": [
    "with torch.no_grad():\n",
    "    pred3 = np.array([np.array(model(x)) for x, _ in valloader]).flatten()"
   ]
  },
  {
   "cell_type": "code",
   "execution_count": null,
   "id": "9bede9b1",
   "metadata": {
    "scrolled": true
   },
   "outputs": [],
   "source": [
    "mean_squared_error(y_val, pred3, squared=False)"
   ]
  },
  {
   "cell_type": "code",
   "execution_count": null,
   "id": "cd0ab008",
   "metadata": {},
   "outputs": [],
   "source": [
    "dset = TensorDataset(torch.Tensor(x_values.reshape(-1, 1)))\n",
    "dloader = DataLoader(dset, batch_size=16, shuffle=False)\n",
    "\n",
    "with torch.no_grad():\n",
    "    out = np.hstack([np.array(model(x)) for x, in dloader]).flatten()\n"
   ]
  },
  {
   "cell_type": "code",
   "execution_count": null,
   "id": "50ffdbd8",
   "metadata": {
    "scrolled": true
   },
   "outputs": [],
   "source": [
    "it_rmse = mean_squared_error(y_val, pred3, squared=False)\n",
    "print(\"true:\", best_error, \", 12th order polynomial:\", it_rmse)\n",
    "\n",
    "fig = go.Figure()\n",
    "fig.add_trace(go.Scatter(x=x_train, y=y_train, mode='markers', showlegend=False))\n",
    "fig.add_trace(go.Scatter(x=x_values, y=f(x_values), name='true function'))\n",
    "fig.add_trace(go.Scatter(x=x_values, \n",
    "                         y=out, \n",
    "                         name='trained 12poly-Even'))\n",
    "fig.show()"
   ]
  },
  {
   "cell_type": "code",
   "execution_count": null,
   "id": "1688e8d5",
   "metadata": {},
   "outputs": [],
   "source": [
    "print('Non-invariant RMSE:', ni_rmse)\n",
    "print('Invariant prediction RMSE:', ip_rmse)\n",
    "print('Invariant training RMSE:', it_rmse)"
   ]
  }
 ],
 "metadata": {
  "kernelspec": {
   "display_name": "Python 3 (ipykernel)",
   "language": "python",
   "name": "python3"
  },
  "language_info": {
   "codemirror_mode": {
    "name": "ipython",
    "version": 3
   },
   "file_extension": ".py",
   "mimetype": "text/x-python",
   "name": "python",
   "nbconvert_exporter": "python",
   "pygments_lexer": "ipython3",
   "version": "3.8.16"
  }
 },
 "nbformat": 4,
 "nbformat_minor": 5
}
