{
 "cells": [
  {
   "cell_type": "markdown",
   "id": "633342ab",
   "metadata": {},
   "source": [
    "# Rotation and mirroring "
   ]
  },
  {
   "cell_type": "markdown",
   "id": "5414436b",
   "metadata": {},
   "source": [
    "### Packages"
   ]
  },
  {
   "cell_type": "code",
   "execution_count": null,
   "id": "d1c70096",
   "metadata": {},
   "outputs": [],
   "source": [
    "import numpy as np\n",
    "import cv2\n",
    "\n",
    "import matplotlib.pyplot as plt"
   ]
  },
  {
   "cell_type": "markdown",
   "id": "4d9b35e9",
   "metadata": {},
   "source": [
    "## Invariance and equivariance"
   ]
  },
  {
   "cell_type": "markdown",
   "id": "cce45772",
   "metadata": {},
   "source": [
    "(a) Consider the group $G$ consisting of all rotation and mirroring matrices.\n",
    "\n",
    "Define a function $f$ that takes as input an element of $G$ and an image and gives out the action of $G$ on the image, where the image is here considered as a signal. You can test your function by importing the image `barbara.bmp`, found on our course on GitHub. Or some other image that you would prefer. I highly recommend using `opencv` to import the image. \n",
    "\n",
    "The function should work so that $f(R, \\text{image})$ is that image rotated 90 degrees, $f(S, \\text{image})$ is that image mirrored along the $x$-axis and we have the relationship\n",
    "$$f(g, f(h, \\text{image})) = f(gh, image).$$\n",
    "How is this function related to group actions?\n",
    "\n",
    "\n",
    "Hint for constructing this: Since the group $G$ does not have that many elements, you can brute force it, using different standard rotation command and mirroring commands in `opencv`.\n",
    "However, you can also interpret it as a a signal: The image is an array, but you can consider it as a function on a grid, sending points $[i,j]$ to $\\text{image}[i,j]$. Then you somehow need to deal with the fact that, viewing it in this way, $i$ is the $y$-coordinate, and it is going from top to bottom rather than the other way around. Also, you would prefer that $(0,0)$ is in the middle of the image, rather than at the edge. So you first need to solve this.\n"
   ]
  },
  {
   "cell_type": "code",
   "execution_count": null,
   "id": "51c8545d",
   "metadata": {},
   "outputs": [],
   "source": []
  },
  {
   "cell_type": "markdown",
   "id": "73dd3d27",
   "metadata": {},
   "source": [
    "(b) Define a function $Convo(A,I)$ that takes as input a square matrix (filter) $A \\in M_{n \\times n}(\\mathbb{R})$ and an image $I$ the result of the convolution of $A$ with $I$.\n",
    "Test out your function with `barbara.bmp` or the other image you chose, with filters\n",
    "$$\n",
    "A_1 = \\begin{pmatrix}\n",
    "0 & -1 & 0 \\\\ -1 & 5 & -1 \\\\ 0 & -1 & 0\n",
    "\\end{pmatrix} \\qquad\n",
    "A_2 = \\begin{pmatrix}\n",
    "-1 & -2 & -1 \\\\ 0 & 0 &0 \\\\ 1 & 2 & 1\n",
    "\\end{pmatrix} \\qquad \n",
    "A_3 = \\begin{array}{c} \\text{$200 \\times 200$ matrix} \\\\\n",
    "\\text{1 at $[0,100]$, the rest is zero.}\n",
    "\\end{array}\n",
    "$$\n",
    "\n",
    "What does these filters do?\n",
    "You can try some standard functions for the convolutions: for `opencv`, there is `cv2.filter2D`."
   ]
  },
  {
   "cell_type": "code",
   "execution_count": null,
   "id": "ec0cdedc",
   "metadata": {},
   "outputs": [],
   "source": []
  },
  {
   "cell_type": "markdown",
   "id": "0516a38e",
   "metadata": {},
   "source": [
    "(c) Define a new function $ConvG$ as follows:\n",
    "* The function takes as input $g \\in G$, a square matrix (filter) $A \\in M_{n \\times n}(\\mathbb{R})$ and  an image $I$.\n",
    "* $ConvG(g, A, I) = f(g^{-1}, Convo(A, f(g,I))).$\n",
    "\n",
    "\n",
    "Test out your function with `barbara.bmp` or the other image you chose, with $R$ and $S$ and $A_1$, $A_2$ and $A_3$"
   ]
  },
  {
   "cell_type": "code",
   "execution_count": null,
   "id": "d9235146",
   "metadata": {},
   "outputs": [],
   "source": []
  },
  {
   "cell_type": "markdown",
   "id": "765ebd4a",
   "metadata": {},
   "source": [
    "(d) We say that the convolution with respect to $A$ satisfy property $(p)$ if\n",
    "$$ConvG(g, A, \\text{image}) = ConvG(h, A,  \\text{image})$$\n",
    "for any $g,h \\in G$ and any image. Is the property $(p)$ stating that $Convo(A, \\cdot)$ is invariant or equivariant? Which of the matrices $A_1$, $A_2$, $A_3$\n",
    "satisfy this mysterious property?"
   ]
  },
  {
   "cell_type": "code",
   "execution_count": null,
   "id": "4b13eaa0",
   "metadata": {},
   "outputs": [],
   "source": []
  },
  {
   "cell_type": "markdown",
   "id": "48f7678a",
   "metadata": {},
   "source": [
    "(e) Whatever you decided property $(p)$ was, choose one of the matrices that whose convolution did not satisfy this property, and use averages over $G$ to force $(p)$ (invariance or equivariance)? What happens? Is this a good idea?"
   ]
  },
  {
   "cell_type": "code",
   "execution_count": null,
   "id": "f14de5d4",
   "metadata": {},
   "outputs": [],
   "source": []
  }
 ],
 "metadata": {
  "kernelspec": {
   "display_name": "Python 3 (ipykernel)",
   "language": "python",
   "name": "python3"
  },
  "language_info": {
   "codemirror_mode": {
    "name": "ipython",
    "version": 3
   },
   "file_extension": ".py",
   "mimetype": "text/x-python",
   "name": "python",
   "nbconvert_exporter": "python",
   "pygments_lexer": "ipython3",
   "version": "3.8.16"
  }
 },
 "nbformat": 4,
 "nbformat_minor": 5
}
